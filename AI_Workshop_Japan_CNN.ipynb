{
  "nbformat": 4,
  "nbformat_minor": 0,
  "metadata": {
    "colab": {
      "name": "AI_Workshop_Japan_CNN.ipynb",
      "provenance": [],
      "collapsed_sections": [],
      "include_colab_link": true
    },
    "kernelspec": {
      "name": "python3",
      "display_name": "Python 3"
    },
    "accelerator": "GPU"
  },
  "cells": [
    {
      "cell_type": "markdown",
      "metadata": {
        "id": "view-in-github",
        "colab_type": "text"
      },
      "source": [
        "<a href=\"https://colab.research.google.com/github/kshimoji8/DeepLearningMugenKnock/blob/master/AI_Workshop_Japan_CNN.ipynb\" target=\"_parent\"><img src=\"https://colab.research.google.com/assets/colab-badge.svg\" alt=\"Open In Colab\"/></a>"
      ]
    },
    {
      "cell_type": "markdown",
      "metadata": {
        "id": "4zsz8MUpl448",
        "colab_type": "text"
      },
      "source": [
        "**AI Hands-On Workshop** <br>\n",
        "\n",
        "Introduction to Convolutional Neural Networks for binary image classification<br>\n",
        "\n",
        "**Haris Sair, MD**<br>\n",
        "*Associate Professor of Radiology<br>\n",
        "Director, Division of Neuroradiology<br>\n",
        "The Russell H. Morgan Department of Radiology and Radiological Science<br>\n",
        "Johns Hopkins University School of Medicine*\n",
        "\n",
        "<small>copyright 2019 Haris Sair</small>\n"
      ]
    },
    {
      "cell_type": "code",
      "metadata": {
        "id": "Id5gSDmCQjkT",
        "colab_type": "code",
        "outputId": "5532ae28-fcb4-4eca-8a04-9249b1f7428b",
        "colab": {
          "base_uri": "https://localhost:8080/",
          "height": 51
        }
      },
      "source": [
        "from __future__ import absolute_import, division, print_function, unicode_literals\n",
        "%tensorflow_version 2.x\n",
        "\n",
        "import tensorflow as tf\n",
        "\n",
        "print(tf.__version__)"
      ],
      "execution_count": 0,
      "outputs": [
        {
          "output_type": "stream",
          "text": [
            "TensorFlow 2.x selected.\n",
            "2.0.0\n"
          ],
          "name": "stdout"
        }
      ]
    },
    {
      "cell_type": "code",
      "metadata": {
        "id": "rhmZeK_Ln7tb",
        "colab_type": "code",
        "colab": {}
      },
      "source": [
        "import os\n",
        "import numpy as np\n",
        "import matplotlib.pyplot as plt\n",
        "\n",
        "from tensorflow.keras.preprocessing.image import ImageDataGenerator"
      ],
      "execution_count": 0,
      "outputs": []
    },
    {
      "cell_type": "markdown",
      "metadata": {
        "id": "n_6l6jiRnQ9i",
        "colab_type": "text"
      },
      "source": [
        "Copy data folder to own Google Drive:\n",
        "https://drive.google.com/open?id=1jbsbrfuYFZfFw55athSSUv7mzEP1_SrB"
      ]
    },
    {
      "cell_type": "code",
      "metadata": {
        "id": "MrLpM0GMk9Ip",
        "colab_type": "code",
        "outputId": "e442f140-a247-43c4-f0e6-86b33b6655f9",
        "colab": {
          "base_uri": "https://localhost:8080/",
          "height": 54
        }
      },
      "source": [
        "from google.colab import drive\n",
        "drive.mount('/content/drive')"
      ],
      "execution_count": 0,
      "outputs": [
        {
          "output_type": "stream",
          "text": [
            "Drive already mounted at /content/drive; to attempt to forcibly remount, call drive.mount(\"/content/drive\", force_remount=True).\n"
          ],
          "name": "stdout"
        }
      ]
    },
    {
      "cell_type": "code",
      "metadata": {
        "colab_type": "code",
        "id": "5qO_ui923psm",
        "colab": {}
      },
      "source": [
        "base_dir = ('/content/drive/My Drive/classification')\n",
        "train_dir = os.path.join(base_dir, 'train')\n",
        "validation_dir = os.path.join(base_dir, 'validation')\n"
      ],
      "execution_count": 0,
      "outputs": []
    },
    {
      "cell_type": "code",
      "metadata": {
        "colab_type": "code",
        "outputId": "39dc28f9-454b-4232-bdf1-a5b44d05a4ab",
        "id": "9DtPyeJx3pDi",
        "colab": {
          "base_uri": "https://localhost:8080/",
          "height": 34
        }
      },
      "source": [
        "base_dir"
      ],
      "execution_count": 0,
      "outputs": [
        {
          "output_type": "execute_result",
          "data": {
            "text/plain": [
              "'/content/drive/My Drive/classification'"
            ]
          },
          "metadata": {
            "tags": []
          },
          "execution_count": 6
        }
      ]
    },
    {
      "cell_type": "code",
      "metadata": {
        "colab_type": "code",
        "id": "vibhDiTu3luT",
        "colab": {}
      },
      "source": [
        "train_normal_dir = os.path.join(train_dir, 'normal')  # directory with our training cat pictures\n",
        "train_stroke_dir = os.path.join(train_dir, 'stroke')  # directory with our training dog pictures\n",
        "validation_normal_dir = os.path.join(validation_dir, 'normal')  # directory with our validation cat pictures\n",
        "validation_stroke_dir = os.path.join(validation_dir, 'stroke')  # directory with our validation dog pictures"
      ],
      "execution_count": 0,
      "outputs": []
    },
    {
      "cell_type": "code",
      "metadata": {
        "colab_type": "code",
        "outputId": "35c9054e-5bc5-45d4-ac70-ba10017bd505",
        "id": "KAIgeaO03kg3",
        "colab": {
          "base_uri": "https://localhost:8080/",
          "height": 34
        }
      },
      "source": [
        "train_normal_dir"
      ],
      "execution_count": 0,
      "outputs": [
        {
          "output_type": "execute_result",
          "data": {
            "text/plain": [
              "'/content/drive/My Drive/classification/train/normal'"
            ]
          },
          "metadata": {
            "tags": []
          },
          "execution_count": 8
        }
      ]
    },
    {
      "cell_type": "code",
      "metadata": {
        "colab_type": "code",
        "id": "9MaHTRe13ie6",
        "colab": {}
      },
      "source": [
        "num_normal_tr = len(os.listdir(train_normal_dir))\n",
        "num_stroke_tr = len(os.listdir(train_stroke_dir))\n",
        "\n",
        "num_normal_val = len(os.listdir(validation_normal_dir))\n",
        "num_stroke_val = len(os.listdir(validation_stroke_dir))\n",
        "\n",
        "total_train = num_normal_tr + num_stroke_tr\n",
        "total_val = num_normal_val + num_stroke_val"
      ],
      "execution_count": 0,
      "outputs": []
    },
    {
      "cell_type": "code",
      "metadata": {
        "id": "TBviS7Pq32vR",
        "colab_type": "code",
        "outputId": "23424232-a781-4ff4-fd23-c3f9739c23eb",
        "colab": {
          "base_uri": "https://localhost:8080/",
          "height": 136
        }
      },
      "source": [
        "print('total training normal images:', num_normal_tr)\n",
        "print('total training stroke images:', num_stroke_tr)\n",
        "\n",
        "print('total validation normal images:', num_normal_val)\n",
        "print('total validation stroke images:', num_stroke_val)\n",
        "print(\"--\")\n",
        "print(\"Total training images:\", total_train)\n",
        "print(\"Total validation images:\", total_val)"
      ],
      "execution_count": 0,
      "outputs": [
        {
          "output_type": "stream",
          "text": [
            "total training normal images: 6\n",
            "total training stroke images: 6\n",
            "total validation normal images: 2\n",
            "total validation stroke images: 2\n",
            "--\n",
            "Total training images: 12\n",
            "Total validation images: 4\n"
          ],
          "name": "stdout"
        }
      ]
    },
    {
      "cell_type": "code",
      "metadata": {
        "id": "9R20RxTK4C6g",
        "colab_type": "code",
        "colab": {}
      },
      "source": [
        "BATCH_SIZE = 1\n",
        "IMG_SHAPE  = 150 # Our training data consists of images with width of 150 pixels and height of 150 pixels"
      ],
      "execution_count": 0,
      "outputs": []
    },
    {
      "cell_type": "code",
      "metadata": {
        "id": "BWm2Ek004L-H",
        "colab_type": "code",
        "outputId": "25f7b228-8496-4d02-f114-e58cc903030b",
        "colab": {
          "base_uri": "https://localhost:8080/",
          "height": 34
        }
      },
      "source": [
        "image_gen_train = ImageDataGenerator(\n",
        "      rescale=1./255,\n",
        "      rotation_range=40,\n",
        "      width_shift_range=0.2,\n",
        "      height_shift_range=0.2,\n",
        "      shear_range=0.2,\n",
        "      zoom_range=0.2,\n",
        "      horizontal_flip=True,\n",
        "      fill_mode='nearest')\n",
        "\n",
        "train_data_gen = image_gen_train.flow_from_directory(batch_size=BATCH_SIZE,\n",
        "                                                     directory=train_dir,\n",
        "                                                     shuffle=True,\n",
        "                                                     target_size=(IMG_SHAPE,IMG_SHAPE),\n",
        "                                                     class_mode='binary')"
      ],
      "execution_count": 0,
      "outputs": [
        {
          "output_type": "stream",
          "text": [
            "Found 10 images belonging to 2 classes.\n"
          ],
          "name": "stdout"
        }
      ]
    },
    {
      "cell_type": "code",
      "metadata": {
        "id": "P16rFS684cvU",
        "colab_type": "code",
        "outputId": "e0019c3d-f288-43a7-99be-faa0ac8eda49",
        "colab": {
          "base_uri": "https://localhost:8080/",
          "height": 34
        }
      },
      "source": [
        "image_gen_val = ImageDataGenerator(rescale=1./255)\n",
        "\n",
        "val_data_gen = image_gen_val.flow_from_directory(batch_size=BATCH_SIZE,\n",
        "                                                 directory=validation_dir,\n",
        "                                                 target_size=(IMG_SHAPE, IMG_SHAPE),\n",
        "                                                 class_mode='binary')"
      ],
      "execution_count": 0,
      "outputs": [
        {
          "output_type": "stream",
          "text": [
            "Found 4 images belonging to 2 classes.\n"
          ],
          "name": "stdout"
        }
      ]
    },
    {
      "cell_type": "code",
      "metadata": {
        "id": "jG7sDp-74gm0",
        "colab_type": "code",
        "colab": {}
      },
      "source": [
        "model = tf.keras.models.Sequential([\n",
        "    tf.keras.layers.Conv2D(32, (3,3), activation='relu', input_shape=(150, 150, 3)),\n",
        "    tf.keras.layers.MaxPooling2D(2, 2),\n",
        "\n",
        "    tf.keras.layers.Conv2D(64, (3,3), activation='relu'),\n",
        "    tf.keras.layers.MaxPooling2D(2,2),\n",
        "\n",
        "    tf.keras.layers.Conv2D(128, (3,3), activation='relu'),\n",
        "    tf.keras.layers.MaxPooling2D(2,2),\n",
        "\n",
        "    tf.keras.layers.Conv2D(128, (3,3), activation='relu'),\n",
        "    tf.keras.layers.MaxPooling2D(2,2),\n",
        "\n",
        "    tf.keras.layers.Dropout(0.5),\n",
        "    tf.keras.layers.Flatten(),\n",
        "    tf.keras.layers.Dense(512, activation='relu'),\n",
        "    tf.keras.layers.Dense(2, activation='softmax')\n",
        "])"
      ],
      "execution_count": 0,
      "outputs": []
    },
    {
      "cell_type": "code",
      "metadata": {
        "id": "Pu4IEr5X4kto",
        "colab_type": "code",
        "colab": {}
      },
      "source": [
        "model.compile(optimizer='adam',\n",
        "              loss='sparse_categorical_crossentropy',\n",
        "              metrics=['accuracy'])"
      ],
      "execution_count": 0,
      "outputs": []
    },
    {
      "cell_type": "code",
      "metadata": {
        "id": "BX_r0Nj44nnM",
        "colab_type": "code",
        "outputId": "1e7d4acf-1670-4188-94a3-379374aad88a",
        "colab": {
          "base_uri": "https://localhost:8080/",
          "height": 561
        }
      },
      "source": [
        "model.summary()"
      ],
      "execution_count": 0,
      "outputs": [
        {
          "output_type": "stream",
          "text": [
            "Model: \"sequential\"\n",
            "_________________________________________________________________\n",
            "Layer (type)                 Output Shape              Param #   \n",
            "=================================================================\n",
            "conv2d (Conv2D)              (None, 148, 148, 32)      896       \n",
            "_________________________________________________________________\n",
            "max_pooling2d (MaxPooling2D) (None, 74, 74, 32)        0         \n",
            "_________________________________________________________________\n",
            "conv2d_1 (Conv2D)            (None, 72, 72, 64)        18496     \n",
            "_________________________________________________________________\n",
            "max_pooling2d_1 (MaxPooling2 (None, 36, 36, 64)        0         \n",
            "_________________________________________________________________\n",
            "conv2d_2 (Conv2D)            (None, 34, 34, 128)       73856     \n",
            "_________________________________________________________________\n",
            "max_pooling2d_2 (MaxPooling2 (None, 17, 17, 128)       0         \n",
            "_________________________________________________________________\n",
            "conv2d_3 (Conv2D)            (None, 15, 15, 128)       147584    \n",
            "_________________________________________________________________\n",
            "max_pooling2d_3 (MaxPooling2 (None, 7, 7, 128)         0         \n",
            "_________________________________________________________________\n",
            "dropout (Dropout)            (None, 7, 7, 128)         0         \n",
            "_________________________________________________________________\n",
            "flatten (Flatten)            (None, 6272)              0         \n",
            "_________________________________________________________________\n",
            "dense (Dense)                (None, 512)               3211776   \n",
            "_________________________________________________________________\n",
            "dense_1 (Dense)              (None, 2)                 1026      \n",
            "=================================================================\n",
            "Total params: 3,453,634\n",
            "Trainable params: 3,453,634\n",
            "Non-trainable params: 0\n",
            "_________________________________________________________________\n"
          ],
          "name": "stdout"
        }
      ]
    },
    {
      "cell_type": "code",
      "metadata": {
        "id": "K0UXU3014qav",
        "colab_type": "code",
        "outputId": "ebb5b55d-0d96-4b96-9b77-04a4fef44534",
        "colab": {
          "base_uri": "https://localhost:8080/",
          "height": 1000
        }
      },
      "source": [
        "epochs=30\n",
        "history = model.fit_generator(\n",
        "    train_data_gen,\n",
        "    steps_per_epoch=int(np.ceil(total_train / float(BATCH_SIZE))),\n",
        "    epochs=epochs,\n",
        "    validation_data=val_data_gen,\n",
        "    validation_steps=int(np.ceil(total_val / float(BATCH_SIZE)))\n",
        ")"
      ],
      "execution_count": 0,
      "outputs": [
        {
          "output_type": "stream",
          "text": [
            "Epoch 1/30\n",
            "12/12 [==============================] - 7s 577ms/step - loss: 1.2505 - accuracy: 0.5000 - val_loss: 0.7090 - val_accuracy: 0.5000\n",
            "Epoch 2/30\n",
            "12/12 [==============================] - 0s 35ms/step - loss: 0.7614 - accuracy: 0.4167 - val_loss: 0.6950 - val_accuracy: 0.5000\n",
            "Epoch 3/30\n",
            "12/12 [==============================] - 0s 37ms/step - loss: 0.6967 - accuracy: 0.5833 - val_loss: 0.6944 - val_accuracy: 0.5000\n",
            "Epoch 4/30\n",
            "12/12 [==============================] - 0s 37ms/step - loss: 0.6907 - accuracy: 0.4167 - val_loss: 0.6949 - val_accuracy: 0.2500\n",
            "Epoch 5/30\n",
            "12/12 [==============================] - 0s 36ms/step - loss: 0.6915 - accuracy: 0.5000 - val_loss: 0.6964 - val_accuracy: 0.5000\n",
            "Epoch 6/30\n",
            "12/12 [==============================] - 1s 44ms/step - loss: 0.7080 - accuracy: 0.4167 - val_loss: 0.6953 - val_accuracy: 0.5000\n",
            "Epoch 7/30\n",
            "12/12 [==============================] - 0s 37ms/step - loss: 0.6874 - accuracy: 0.5833 - val_loss: 0.6952 - val_accuracy: 0.5000\n",
            "Epoch 8/30\n",
            "12/12 [==============================] - 0s 36ms/step - loss: 0.6834 - accuracy: 0.5833 - val_loss: 0.7179 - val_accuracy: 0.5000\n",
            "Epoch 9/30\n",
            "12/12 [==============================] - 0s 37ms/step - loss: 0.6801 - accuracy: 0.4167 - val_loss: 0.7124 - val_accuracy: 0.2500\n",
            "Epoch 10/30\n",
            "12/12 [==============================] - 0s 41ms/step - loss: 0.7140 - accuracy: 0.5833 - val_loss: 0.6905 - val_accuracy: 0.5000\n",
            "Epoch 11/30\n",
            "12/12 [==============================] - 0s 38ms/step - loss: 0.6394 - accuracy: 0.5833 - val_loss: 0.7213 - val_accuracy: 0.2500\n",
            "Epoch 12/30\n",
            "12/12 [==============================] - 0s 39ms/step - loss: 0.7096 - accuracy: 0.5833 - val_loss: 0.6822 - val_accuracy: 0.5000\n",
            "Epoch 13/30\n",
            "12/12 [==============================] - 0s 37ms/step - loss: 0.7132 - accuracy: 0.6667 - val_loss: 0.6853 - val_accuracy: 0.5000\n",
            "Epoch 14/30\n",
            "12/12 [==============================] - 0s 38ms/step - loss: 0.6601 - accuracy: 0.8333 - val_loss: 0.7728 - val_accuracy: 0.5000\n",
            "Epoch 15/30\n",
            "12/12 [==============================] - 0s 37ms/step - loss: 0.6842 - accuracy: 0.7500 - val_loss: 0.8259 - val_accuracy: 0.2500\n",
            "Epoch 16/30\n",
            "12/12 [==============================] - 0s 41ms/step - loss: 0.8797 - accuracy: 0.9167 - val_loss: 0.9530 - val_accuracy: 0.2500\n",
            "Epoch 17/30\n",
            "12/12 [==============================] - 0s 38ms/step - loss: 0.7199 - accuracy: 0.5000 - val_loss: 0.7453 - val_accuracy: 0.5000\n",
            "Epoch 18/30\n",
            "12/12 [==============================] - 0s 37ms/step - loss: 0.6435 - accuracy: 0.8333 - val_loss: 0.7241 - val_accuracy: 0.5000\n",
            "Epoch 19/30\n",
            "12/12 [==============================] - 0s 38ms/step - loss: 0.6741 - accuracy: 0.5833 - val_loss: 0.7399 - val_accuracy: 0.2500\n",
            "Epoch 20/30\n",
            "12/12 [==============================] - 0s 36ms/step - loss: 0.6267 - accuracy: 0.7500 - val_loss: 0.8568 - val_accuracy: 0.5000\n",
            "Epoch 21/30\n",
            "12/12 [==============================] - 0s 35ms/step - loss: 0.6557 - accuracy: 0.5833 - val_loss: 0.8110 - val_accuracy: 0.2500\n",
            "Epoch 22/30\n",
            "12/12 [==============================] - 0s 38ms/step - loss: 0.5457 - accuracy: 0.8333 - val_loss: 0.8281 - val_accuracy: 0.5000\n",
            "Epoch 23/30\n",
            "12/12 [==============================] - 0s 38ms/step - loss: 0.7391 - accuracy: 0.7500 - val_loss: 1.2130 - val_accuracy: 0.5000\n",
            "Epoch 24/30\n",
            "12/12 [==============================] - 0s 37ms/step - loss: 0.6431 - accuracy: 0.6667 - val_loss: 1.0243 - val_accuracy: 0.5000\n",
            "Epoch 25/30\n",
            "12/12 [==============================] - 0s 35ms/step - loss: 0.6157 - accuracy: 0.6667 - val_loss: 1.7375 - val_accuracy: 0.5000\n",
            "Epoch 26/30\n",
            "12/12 [==============================] - 1s 44ms/step - loss: 0.7262 - accuracy: 0.5000 - val_loss: 0.8671 - val_accuracy: 0.5000\n",
            "Epoch 27/30\n",
            "12/12 [==============================] - 0s 39ms/step - loss: 0.7021 - accuracy: 0.5000 - val_loss: 0.7237 - val_accuracy: 0.5000\n",
            "Epoch 28/30\n",
            "12/12 [==============================] - 0s 36ms/step - loss: 0.6150 - accuracy: 0.7500 - val_loss: 0.7818 - val_accuracy: 0.5000\n",
            "Epoch 29/30\n",
            "12/12 [==============================] - 0s 37ms/step - loss: 0.6345 - accuracy: 0.5833 - val_loss: 0.9036 - val_accuracy: 0.2500\n",
            "Epoch 30/30\n",
            "12/12 [==============================] - 0s 37ms/step - loss: 0.6040 - accuracy: 0.7500 - val_loss: 0.7348 - val_accuracy: 0.5000\n"
          ],
          "name": "stdout"
        }
      ]
    },
    {
      "cell_type": "code",
      "metadata": {
        "id": "zX7gmkmw47le",
        "colab_type": "code",
        "outputId": "a24b2d26-3a6a-413f-ba93-d692d45efe42",
        "colab": {
          "base_uri": "https://localhost:8080/",
          "height": 499
        }
      },
      "source": [
        "acc = history.history['accuracy']\n",
        "val_acc = history.history['val_accuracy']\n",
        "\n",
        "loss = history.history['loss']\n",
        "val_loss = history.history['val_loss']\n",
        "\n",
        "epochs_range = range(epochs)\n",
        "\n",
        "plt.figure(figsize=(16, 8))\n",
        "plt.subplot(1, 2, 1)\n",
        "plt.plot(epochs_range, acc, label='Training Accuracy')\n",
        "plt.plot(epochs_range, val_acc, label='Validation Accuracy')\n",
        "plt.legend(loc='lower right')\n",
        "plt.title('Training and Validation Accuracy')\n",
        "\n",
        "plt.subplot(1, 2, 2)\n",
        "plt.plot(epochs_range, loss, label='Training Loss')\n",
        "plt.plot(epochs_range, val_loss, label='Validation Loss')\n",
        "plt.legend(loc='upper right')\n",
        "plt.title('Training and Validation Loss')\n",
        "plt.show()"
      ],
      "execution_count": 0,
      "outputs": [
        {
          "output_type": "display_data",
          "data": {
            "image/png": "[encoded data removed]",
            "text/plain": [
              "<Figure size 1152x576 with 2 Axes>"
            ]
          },
          "metadata": {
            "tags": []
          }
        }
      ]
    }
  ]
}