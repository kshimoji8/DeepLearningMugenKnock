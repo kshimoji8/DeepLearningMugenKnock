{
  "nbformat": 4,
  "nbformat_minor": 0,
  "metadata": {
    "colab": {
      "name": "AI_Workshop_Japan_TL.ipynb",
      "provenance": [],
      "collapsed_sections": [],
      "include_colab_link": true
    },
    "kernelspec": {
      "name": "python3",
      "display_name": "Python 3"
    },
    "accelerator": "GPU"
  },
  "cells": [
    {
      "cell_type": "markdown",
      "metadata": {
        "id": "view-in-github",
        "colab_type": "text"
      },
      "source": [
        "<a href=\"https://colab.research.google.com/github/kshimoji8/DeepLearningMugenKnock/blob/master/AI_Workshop_Japan_TL.ipynb\" target=\"_parent\"><img src=\"https://colab.research.google.com/assets/colab-badge.svg\" alt=\"Open In Colab\"/></a>"
      ]
    },
    {
      "cell_type": "markdown",
      "metadata": {
        "id": "4zsz8MUpl448",
        "colab_type": "text"
      },
      "source": [
        "**AI Hands-On Workshop** <br>\n",
        "\n",
        "Introduction to transfer learning<br>\n",
        "\n",
        "**Haris Sair, MD**<br>\n",
        "*Associate Professor of Radiology<br>\n",
        "Director, Division of Neuroradiology<br>\n",
        "The Russell H. Morgan Department of Radiology and Radiological Science<br>\n",
        "Johns Hopkins University School of Medicine*\n",
        "\n",
        "<small>copyright 2019 Haris Sair</small>\n"
      ]
    },
    {
      "cell_type": "code",
      "metadata": {
        "id": "Id5gSDmCQjkT",
        "colab_type": "code",
        "outputId": "df089a2d-8ff6-4268-9c87-745ff2c81b7b",
        "colab": {
          "base_uri": "https://localhost:8080/",
          "height": 51
        }
      },
      "source": [
        "from __future__ import absolute_import, division, print_function, unicode_literals\n",
        "%tensorflow_version 2.x\n",
        "\n",
        "import tensorflow as tf\n",
        "\n",
        "print(tf.__version__)"
      ],
      "execution_count": 0,
      "outputs": [
        {
          "output_type": "stream",
          "text": [
            "TensorFlow 2.x selected.\n",
            "2.0.0\n"
          ],
          "name": "stdout"
        }
      ]
    },
    {
      "cell_type": "code",
      "metadata": {
        "id": "rhmZeK_Ln7tb",
        "colab_type": "code",
        "colab": {}
      },
      "source": [
        "import os\n",
        "import numpy as np\n",
        "import matplotlib.pyplot as plt\n",
        "\n",
        "from tensorflow.keras.preprocessing.image import ImageDataGenerator\n",
        "from tensorflow.keras import layers\n",
        "\n",
        "import tensorflow_hub as hub\n",
        "import tensorflow_datasets as tfds\n",
        "\n"
      ],
      "execution_count": 0,
      "outputs": []
    },
    {
      "cell_type": "code",
      "metadata": {
        "id": "ERI1ayEc02iY",
        "colab_type": "code",
        "colab": {}
      },
      "source": [
        "import logging\n",
        "logger = tf.get_logger()\n",
        "logger.setLevel(logging.ERROR)"
      ],
      "execution_count": 0,
      "outputs": []
    },
    {
      "cell_type": "markdown",
      "metadata": {
        "id": "n_6l6jiRnQ9i",
        "colab_type": "text"
      },
      "source": [
        "Copy data folder to own Google Drive:\n",
        "https://drive.google.com/open?id=1jbsbrfuYFZfFw55athSSUv7mzEP1_SrB"
      ]
    },
    {
      "cell_type": "code",
      "metadata": {
        "id": "MrLpM0GMk9Ip",
        "colab_type": "code",
        "outputId": "6d770747-d1fa-4725-f402-5272abca3e89",
        "colab": {
          "base_uri": "https://localhost:8080/",
          "height": 122
        }
      },
      "source": [
        "from google.colab import drive\n",
        "drive.mount('/content/drive')"
      ],
      "execution_count": 0,
      "outputs": [
        {
          "output_type": "stream",
          "text": [
            "Go to this URL in a browser: https://accounts.google.com/o/oauth2/auth?client_id=947318989803-6bn6qk8qdgf4n4g3pfee6491hc0brc4i.apps.googleusercontent.com&redirect_uri=urn%3aietf%3awg%3aoauth%3a2.0%3aoob&response_type=code&scope=email%20https%3a%2f%2fwww.googleapis.com%2fauth%2fdocs.test%20https%3a%2f%2fwww.googleapis.com%2fauth%2fdrive%20https%3a%2f%2fwww.googleapis.com%2fauth%2fdrive.photos.readonly%20https%3a%2f%2fwww.googleapis.com%2fauth%2fpeopleapi.readonly\n",
            "\n",
            "Enter your authorization code:\n",
            "··········\n",
            "Mounted at /content/drive\n"
          ],
          "name": "stdout"
        }
      ]
    },
    {
      "cell_type": "code",
      "metadata": {
        "colab_type": "code",
        "id": "5qO_ui923psm",
        "colab": {}
      },
      "source": [
        "base_dir = ('/content/drive/My Drive/classification')\n",
        "train_dir = os.path.join(base_dir, 'train')\n",
        "validation_dir = os.path.join(base_dir, 'validation')\n"
      ],
      "execution_count": 0,
      "outputs": []
    },
    {
      "cell_type": "code",
      "metadata": {
        "colab_type": "code",
        "outputId": "cd29765e-6c7f-4b38-acd8-953572138847",
        "id": "9DtPyeJx3pDi",
        "colab": {
          "base_uri": "https://localhost:8080/",
          "height": 34
        }
      },
      "source": [
        "base_dir"
      ],
      "execution_count": 0,
      "outputs": [
        {
          "output_type": "execute_result",
          "data": {
            "text/plain": [
              "'/content/drive/My Drive/classification'"
            ]
          },
          "metadata": {
            "tags": []
          },
          "execution_count": 6
        }
      ]
    },
    {
      "cell_type": "code",
      "metadata": {
        "colab_type": "code",
        "id": "vibhDiTu3luT",
        "colab": {}
      },
      "source": [
        "train_normal_dir = os.path.join(train_dir, 'normal')  # directory with our training cat pictures\n",
        "train_stroke_dir = os.path.join(train_dir, 'stroke')  # directory with our training dog pictures\n",
        "validation_normal_dir = os.path.join(validation_dir, 'normal')  # directory with our validation cat pictures\n",
        "validation_stroke_dir = os.path.join(validation_dir, 'stroke')  # directory with our validation dog pictures"
      ],
      "execution_count": 0,
      "outputs": []
    },
    {
      "cell_type": "code",
      "metadata": {
        "colab_type": "code",
        "outputId": "a2a305fa-399b-4967-befa-4046605b26c9",
        "id": "KAIgeaO03kg3",
        "colab": {
          "base_uri": "https://localhost:8080/",
          "height": 34
        }
      },
      "source": [
        "train_normal_dir"
      ],
      "execution_count": 0,
      "outputs": [
        {
          "output_type": "execute_result",
          "data": {
            "text/plain": [
              "'/content/drive/My Drive/classification/train/normal'"
            ]
          },
          "metadata": {
            "tags": []
          },
          "execution_count": 8
        }
      ]
    },
    {
      "cell_type": "code",
      "metadata": {
        "colab_type": "code",
        "id": "9MaHTRe13ie6",
        "colab": {}
      },
      "source": [
        "num_normal_tr = len(os.listdir(train_normal_dir))\n",
        "num_stroke_tr = len(os.listdir(train_stroke_dir))\n",
        "\n",
        "num_normal_val = len(os.listdir(validation_normal_dir))\n",
        "num_stroke_val = len(os.listdir(validation_stroke_dir))\n",
        "\n",
        "total_train = num_normal_tr + num_stroke_tr\n",
        "total_val = num_normal_val + num_stroke_val"
      ],
      "execution_count": 0,
      "outputs": []
    },
    {
      "cell_type": "code",
      "metadata": {
        "id": "TBviS7Pq32vR",
        "colab_type": "code",
        "outputId": "3743d241-c08d-4a3f-b541-8f6a15085957",
        "colab": {
          "base_uri": "https://localhost:8080/",
          "height": 136
        }
      },
      "source": [
        "print('total training normal images:', num_normal_tr)\n",
        "print('total training stroke images:', num_stroke_tr)\n",
        "\n",
        "print('total validation normal images:', num_normal_val)\n",
        "print('total validation stroke images:', num_stroke_val)\n",
        "print(\"--\")\n",
        "print(\"Total training images:\", total_train)\n",
        "print(\"Total validation images:\", total_val)"
      ],
      "execution_count": 0,
      "outputs": [
        {
          "output_type": "stream",
          "text": [
            "total training normal images: 6\n",
            "total training stroke images: 6\n",
            "total validation normal images: 2\n",
            "total validation stroke images: 2\n",
            "--\n",
            "Total training images: 12\n",
            "Total validation images: 4\n"
          ],
          "name": "stdout"
        }
      ]
    },
    {
      "cell_type": "code",
      "metadata": {
        "id": "9R20RxTK4C6g",
        "colab_type": "code",
        "colab": {}
      },
      "source": [
        "BATCH_SIZE = 1\n",
        "IMG_SHAPE  = 224"
      ],
      "execution_count": 0,
      "outputs": []
    },
    {
      "cell_type": "code",
      "metadata": {
        "id": "BWm2Ek004L-H",
        "colab_type": "code",
        "outputId": "77ea2252-9a50-47e9-f5df-9a9093279770",
        "colab": {
          "base_uri": "https://localhost:8080/",
          "height": 34
        }
      },
      "source": [
        "image_gen_train = ImageDataGenerator(\n",
        "      rescale=1./255,\n",
        "      rotation_range=40,\n",
        "      width_shift_range=0.2,\n",
        "      height_shift_range=0.2,\n",
        "      shear_range=0.2,\n",
        "      zoom_range=0.2,\n",
        "      horizontal_flip=True,\n",
        "      fill_mode='nearest')\n",
        "\n",
        "train_data_gen = image_gen_train.flow_from_directory(batch_size=BATCH_SIZE,\n",
        "                                                     directory=train_dir,\n",
        "                                                     shuffle=True,\n",
        "                                                     target_size=(IMG_SHAPE,IMG_SHAPE),\n",
        "                                                     class_mode='binary')"
      ],
      "execution_count": 0,
      "outputs": [
        {
          "output_type": "stream",
          "text": [
            "Found 10 images belonging to 2 classes.\n"
          ],
          "name": "stdout"
        }
      ]
    },
    {
      "cell_type": "code",
      "metadata": {
        "id": "P16rFS684cvU",
        "colab_type": "code",
        "outputId": "7dcc992e-5307-4d6a-9cce-fc0d1546ab9f",
        "colab": {
          "base_uri": "https://localhost:8080/",
          "height": 34
        }
      },
      "source": [
        "image_gen_val = ImageDataGenerator(rescale=1./255)\n",
        "\n",
        "val_data_gen = image_gen_val.flow_from_directory(batch_size=BATCH_SIZE,\n",
        "                                                 directory=validation_dir,\n",
        "                                                 target_size=(IMG_SHAPE, IMG_SHAPE),\n",
        "                                                 class_mode='binary')"
      ],
      "execution_count": 0,
      "outputs": [
        {
          "output_type": "stream",
          "text": [
            "Found 4 images belonging to 2 classes.\n"
          ],
          "name": "stdout"
        }
      ]
    },
    {
      "cell_type": "code",
      "metadata": {
        "id": "AIReFhAY5Owy",
        "colab_type": "code",
        "colab": {}
      },
      "source": [
        "URL = \"https://tfhub.dev/google/tf2-preview/mobilenet_v2/feature_vector/4\"\n",
        "feature_extractor = hub.KerasLayer(URL,\n",
        "                                   input_shape=(IMG_SHAPE, IMG_SHAPE,3))"
      ],
      "execution_count": 0,
      "outputs": []
    },
    {
      "cell_type": "code",
      "metadata": {
        "id": "BzufJ_4i5meY",
        "colab_type": "code",
        "colab": {}
      },
      "source": [
        "feature_extractor.trainable = False"
      ],
      "execution_count": 0,
      "outputs": []
    },
    {
      "cell_type": "code",
      "metadata": {
        "id": "yuLEC26A5rzy",
        "colab_type": "code",
        "outputId": "6dd7b3b7-ee65-40f6-9a88-4adae298a9a1",
        "colab": {
          "base_uri": "https://localhost:8080/",
          "height": 221
        }
      },
      "source": [
        "model = tf.keras.Sequential([\n",
        "  feature_extractor,\n",
        "  layers.Dense(2, activation='softmax')\n",
        "])\n",
        "\n",
        "model.summary()"
      ],
      "execution_count": 0,
      "outputs": [
        {
          "output_type": "stream",
          "text": [
            "Model: \"sequential\"\n",
            "_________________________________________________________________\n",
            "Layer (type)                 Output Shape              Param #   \n",
            "=================================================================\n",
            "keras_layer (KerasLayer)     (None, 1280)              2257984   \n",
            "_________________________________________________________________\n",
            "dense (Dense)                (None, 2)                 2562      \n",
            "=================================================================\n",
            "Total params: 2,260,546\n",
            "Trainable params: 2,562\n",
            "Non-trainable params: 2,257,984\n",
            "_________________________________________________________________\n"
          ],
          "name": "stdout"
        }
      ]
    },
    {
      "cell_type": "code",
      "metadata": {
        "id": "Pu4IEr5X4kto",
        "colab_type": "code",
        "colab": {}
      },
      "source": [
        "model.compile(optimizer='adam',\n",
        "              loss='sparse_categorical_crossentropy',\n",
        "              metrics=['accuracy'])"
      ],
      "execution_count": 0,
      "outputs": []
    },
    {
      "cell_type": "code",
      "metadata": {
        "id": "K0UXU3014qav",
        "colab_type": "code",
        "outputId": "4971ef17-df64-4aaf-ecde-88d482eabd46",
        "colab": {
          "base_uri": "https://localhost:8080/",
          "height": 357
        }
      },
      "source": [
        "epochs=10\n",
        "history = model.fit_generator(\n",
        "    train_data_gen,\n",
        "    steps_per_epoch=int(np.ceil(total_train / float(BATCH_SIZE))),\n",
        "    epochs=epochs,\n",
        "    validation_data=val_data_gen,\n",
        "    validation_steps=int(np.ceil(total_val / float(BATCH_SIZE)))\n",
        ")"
      ],
      "execution_count": 0,
      "outputs": [
        {
          "output_type": "stream",
          "text": [
            "Epoch 1/10\n",
            "12/12 [==============================] - 1s 99ms/step - loss: 0.2284 - accuracy: 0.9167 - val_loss: 0.8459 - val_accuracy: 0.7500\n",
            "Epoch 2/10\n",
            "12/12 [==============================] - 1s 84ms/step - loss: 0.2792 - accuracy: 0.9167 - val_loss: 0.9308 - val_accuracy: 0.5000\n",
            "Epoch 3/10\n",
            "12/12 [==============================] - 1s 87ms/step - loss: 0.1703 - accuracy: 0.9167 - val_loss: 0.6541 - val_accuracy: 0.7500\n",
            "Epoch 4/10\n",
            "12/12 [==============================] - 1s 83ms/step - loss: 0.2029 - accuracy: 1.0000 - val_loss: 0.7665 - val_accuracy: 0.7500\n",
            "Epoch 5/10\n",
            "12/12 [==============================] - 1s 85ms/step - loss: 0.1236 - accuracy: 1.0000 - val_loss: 0.9511 - val_accuracy: 0.7500\n",
            "Epoch 6/10\n",
            "12/12 [==============================] - 1s 97ms/step - loss: 0.1162 - accuracy: 1.0000 - val_loss: 0.7000 - val_accuracy: 0.7500\n",
            "Epoch 7/10\n",
            "12/12 [==============================] - 1s 84ms/step - loss: 0.0867 - accuracy: 1.0000 - val_loss: 0.7786 - val_accuracy: 0.7500\n",
            "Epoch 8/10\n",
            "12/12 [==============================] - 1s 83ms/step - loss: 0.0794 - accuracy: 1.0000 - val_loss: 0.8877 - val_accuracy: 0.7500\n",
            "Epoch 9/10\n",
            "12/12 [==============================] - 1s 85ms/step - loss: 0.0431 - accuracy: 1.0000 - val_loss: 0.7946 - val_accuracy: 0.7500\n",
            "Epoch 10/10\n",
            "12/12 [==============================] - 1s 87ms/step - loss: 0.0543 - accuracy: 1.0000 - val_loss: 0.6505 - val_accuracy: 0.7500\n"
          ],
          "name": "stdout"
        }
      ]
    },
    {
      "cell_type": "code",
      "metadata": {
        "id": "zX7gmkmw47le",
        "colab_type": "code",
        "outputId": "3ca49429-c836-4838-f806-73d2439d1a0a",
        "colab": {
          "base_uri": "https://localhost:8080/",
          "height": 499
        }
      },
      "source": [
        "acc = history.history['accuracy']\n",
        "val_acc = history.history['val_accuracy']\n",
        "\n",
        "loss = history.history['loss']\n",
        "val_loss = history.history['val_loss']\n",
        "\n",
        "epochs_range = range(epochs)\n",
        "\n",
        "plt.figure(figsize=(16, 8))\n",
        "plt.subplot(1, 2, 1)\n",
        "plt.plot(epochs_range, acc, label='Training Accuracy')\n",
        "plt.plot(epochs_range, val_acc, label='Validation Accuracy')\n",
        "plt.legend(loc='lower right')\n",
        "plt.title('Training and Validation Accuracy')\n",
        "\n",
        "plt.subplot(1, 2, 2)\n",
        "plt.plot(epochs_range, loss, label='Training Loss')\n",
        "plt.plot(epochs_range, val_loss, label='Validation Loss')\n",
        "plt.legend(loc='upper right')\n",
        "plt.title('Training and Validation Loss')\n",
        "plt.show()"
      ],
      "execution_count": 0,
      "outputs": [
        {
          "output_type": "display_data",
          "data": {
            "image/png": "[encoded data removed]",
            "text/plain": [
              "<Figure size 1152x576 with 2 Axes>"
            ]
          },
          "metadata": {
            "tags": []
          }
        }
      ]
    }
  ]
}